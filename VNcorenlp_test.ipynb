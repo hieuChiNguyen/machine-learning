{
  "nbformat": 4,
  "nbformat_minor": 0,
  "metadata": {
    "colab": {
      "provenance": []
    },
    "kernelspec": {
      "name": "python3",
      "display_name": "Python 3"
    },
    "language_info": {
      "name": "python"
    }
  },
  "cells": [
    {
      "cell_type": "markdown",
      "source": [
        "### Vncorenlp"
      ],
      "metadata": {
        "id": "irQ8wy76od9K"
      }
    },
    {
      "cell_type": "code",
      "execution_count": 1,
      "metadata": {
        "id": "QLxPkSZfoWtX"
      },
      "outputs": [],
      "source": [
        "%%capture\n",
        "!apt-get update && apt-get install openjdk-8-jdk\n",
        "!pip -qq install  py-vncorenlp\n"
      ]
    },
    {
      "cell_type": "code",
      "source": [
        "import py_vncorenlp\n",
        "import os\n",
        "VNCORENLP_SAVEDIR=os.path.abspath(\"cache/vncorenlp\")\n",
        "os.makedirs(VNCORENLP_SAVEDIR,exist_ok=True)\n",
        "py_vncorenlp.download_model(save_dir=VNCORENLP_SAVEDIR)"
      ],
      "metadata": {
        "colab": {
          "base_uri": "https://localhost:8080/"
        },
        "id": "JsuHVBgaode7",
        "outputId": "d9e76fb1-1e17-418f-8e89-b4e618cf5b4e"
      },
      "execution_count": 2,
      "outputs": [
        {
          "output_type": "stream",
          "name": "stdout",
          "text": [
            "VnCoreNLP model folder /content/cache/vncorenlp already exists! Please load VnCoreNLP from this folder!\n"
          ]
        }
      ]
    },
    {
      "cell_type": "code",
      "source": [
        "# Save the current working dir\n",
        "previous_working_dir=os.path.abspath(os.getcwd())\n",
        "\n",
        "# Khởi tạo VnCoreNLP với đầy đủ các annotators\n",
        "# wseg: Tách từ\n",
        "# pos: Gán nhãn từ loại\n",
        "# ner: Nhận dạng thực thể\n",
        "rdrsegmenter = py_vncorenlp.VnCoreNLP(\n",
        "    annotators=[\"wseg\", \"pos\", \"ner\"],\n",
        "    save_dir=VNCORENLP_SAVEDIR\n",
        ")\n",
        "\n",
        "text = \"Đại học Bách khoa Hà Nội là một trong những trường đại học hàng đầu tại Việt Nam.\"\n",
        "\n",
        "# Chú ý: VnCoreNLP xử lý một list các câu.\n",
        "# Kết quả trả về là một list các câu đã được xử lý.\n",
        "# Mỗi câu là một list các từ, mỗi từ là một dictionary.\n",
        "annotated_text = rdrsegmenter.annotate_text(text)\n",
        "print(annotated_text)\n",
        "\n",
        "# Lấy ra câu đầu tiên đã được xử lý (vì chúng ta chỉ có 1 câu đầu vào)\n",
        "first_sentence = annotated_text[0]\n",
        "\n",
        "print(\"--- TÁCH TỪ ---\")\n",
        "# form là từ đã được tách\n",
        "# word_index là vị trí của từ\n",
        "for i, word_info in enumerate(first_sentence):\n",
        "    print(f\"Từ {i}: {word_info['wordForm']}\")\n"
      ],
      "metadata": {
        "colab": {
          "base_uri": "https://localhost:8080/"
        },
        "id": "CM8AZqRpookC",
        "outputId": "41db163f-213a-462b-da16-e589ca417607"
      },
      "execution_count": 3,
      "outputs": [
        {
          "output_type": "stream",
          "name": "stdout",
          "text": [
            "{0: [{'index': 1, 'wordForm': 'Đại_học', 'posTag': 'N', 'nerLabel': 'B-ORG', 'head': '_', 'depLabel': '_'}, {'index': 2, 'wordForm': 'Bách_khoa', 'posTag': 'Np', 'nerLabel': 'I-ORG', 'head': '_', 'depLabel': '_'}, {'index': 3, 'wordForm': 'Hà_Nội', 'posTag': 'Np', 'nerLabel': 'I-ORG', 'head': '_', 'depLabel': '_'}, {'index': 4, 'wordForm': 'là', 'posTag': 'V', 'nerLabel': 'O', 'head': '_', 'depLabel': '_'}, {'index': 5, 'wordForm': 'một', 'posTag': 'M', 'nerLabel': 'O', 'head': '_', 'depLabel': '_'}, {'index': 6, 'wordForm': 'trong', 'posTag': 'E', 'nerLabel': 'O', 'head': '_', 'depLabel': '_'}, {'index': 7, 'wordForm': 'những', 'posTag': 'L', 'nerLabel': 'O', 'head': '_', 'depLabel': '_'}, {'index': 8, 'wordForm': 'trường', 'posTag': 'N', 'nerLabel': 'O', 'head': '_', 'depLabel': '_'}, {'index': 9, 'wordForm': 'đại_học', 'posTag': 'N', 'nerLabel': 'O', 'head': '_', 'depLabel': '_'}, {'index': 10, 'wordForm': 'hàng_đầu', 'posTag': 'N', 'nerLabel': 'O', 'head': '_', 'depLabel': '_'}, {'index': 11, 'wordForm': 'tại', 'posTag': 'E', 'nerLabel': 'O', 'head': '_', 'depLabel': '_'}, {'index': 12, 'wordForm': 'Việt_Nam', 'posTag': 'Np', 'nerLabel': 'B-LOC', 'head': '_', 'depLabel': '_'}, {'index': 13, 'wordForm': '.', 'posTag': 'CH', 'nerLabel': 'O', 'head': '_', 'depLabel': '_'}]}\n",
            "--- TÁCH TỪ ---\n",
            "Từ 0: Đại_học\n",
            "Từ 1: Bách_khoa\n",
            "Từ 2: Hà_Nội\n",
            "Từ 3: là\n",
            "Từ 4: một\n",
            "Từ 5: trong\n",
            "Từ 6: những\n",
            "Từ 7: trường\n",
            "Từ 8: đại_học\n",
            "Từ 9: hàng_đầu\n",
            "Từ 10: tại\n",
            "Từ 11: Việt_Nam\n",
            "Từ 12: .\n"
          ]
        }
      ]
    },
    {
      "cell_type": "code",
      "source": [
        "print(\"\\n--- GÁN NHÃN TỪ LOẠI (POS) ---\")\n",
        "# posTag là nhãn từ loại\n",
        "for word_info in first_sentence:\n",
        "    print(f\"{word_info['wordForm']:<15} {word_info['posTag']:<10}\")"
      ],
      "metadata": {
        "colab": {
          "base_uri": "https://localhost:8080/"
        },
        "id": "cCg5KAQQo0eC",
        "outputId": "6b38a641-a47c-4ee5-cb4e-48ff14f16493"
      },
      "execution_count": 4,
      "outputs": [
        {
          "output_type": "stream",
          "name": "stdout",
          "text": [
            "\n",
            "--- GÁN NHÃN TỪ LOẠI (POS) ---\n",
            "Đại_học         N         \n",
            "Bách_khoa       Np        \n",
            "Hà_Nội          Np        \n",
            "là              V         \n",
            "một             M         \n",
            "trong           E         \n",
            "những           L         \n",
            "trường          N         \n",
            "đại_học         N         \n",
            "hàng_đầu        N         \n",
            "tại             E         \n",
            "Việt_Nam        Np        \n",
            ".               CH        \n"
          ]
        }
      ]
    },
    {
      "cell_type": "code",
      "source": [
        "# VnCoreNLP sẽ gán nhãn NER cho từng từ. Chúng ta cần nhóm các từ lại với nhau.\n",
        "print(\"\\n--- NHẬN DẠNG THỰC THỂ (NER) ---\")\n",
        "\n",
        "# Các biến để lưu trữ thực thể đang được xử lý\n",
        "current_entity_words = []\n",
        "current_entity_label = \"O\"  # \"O\" nghĩa là Outside (không phải thực thể)\n",
        "\n",
        "for word_info in first_sentence:\n",
        "    word = word_info['wordForm']\n",
        "    label = word_info['nerLabel']\n",
        "\n",
        "    if label.startswith(\"B-\"):  # B- là Begin (bắt đầu một thực thể mới)\n",
        "        # Nếu có thực thể cũ, in nó ra trước khi bắt đầu thực thể mới\n",
        "        if current_entity_words:\n",
        "            entity_text = ' '.join(current_entity_words).replace('_', ' ')\n",
        "            print(f\"{entity_text:<30} {current_entity_label:<15}\")\n",
        "\n",
        "        # Bắt đầu thực thể mới\n",
        "        current_entity_words = [word]\n",
        "        current_entity_label = label[2:]  # Bỏ \"B-\" đi để lấy nhãn (ví dụ: B-ORG -> ORG)\n",
        "\n",
        "    elif label.startswith(\"I-\") and label[2:] == current_entity_label:  # I- là Inside (bên trong thực thể)\n",
        "        # Nếu từ này là một phần của thực thể hiện tại, thêm nó vào\n",
        "        current_entity_words.append(word)\n",
        "\n",
        "    else:  # Nếu là nhãn \"O\" hoặc một thực thể mới bắt đầu không liên quan\n",
        "        # Nếu có thực thể cũ\n",
        "        if current_entity_words:\n",
        "            entity_text = ' '.join(current_entity_words).replace('_', ' ')\n",
        "            print(f\"{entity_text:<30} {current_entity_label:<15}\")\n",
        "\n",
        "        # Reset\n",
        "        current_entity_words = []\n",
        "        current_entity_label = \"O\"\n",
        "\n",
        "if current_entity_words:\n",
        "    entity_text = ' '.join(current_entity_words).replace('_', ' ')\n",
        "    print(f\"{entity_text:<30} {current_entity_label:<15}\")"
      ],
      "metadata": {
        "colab": {
          "base_uri": "https://localhost:8080/"
        },
        "id": "r6bDg00pulXL",
        "outputId": "6fc9a72c-6d39-4f31-ed81-ca2289fd1d55"
      },
      "execution_count": 5,
      "outputs": [
        {
          "output_type": "stream",
          "name": "stdout",
          "text": [
            "\n",
            "--- NHẬN DẠNG THỰC THỂ (NER) ---\n",
            "Đại học Bách khoa Hà Nội       ORG            \n",
            "Việt Nam                       LOC            \n"
          ]
        }
      ]
    }
  ]
}